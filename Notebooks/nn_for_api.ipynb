{
 "cells": [
  {
   "cell_type": "code",
   "execution_count": 183,
   "id": "53396b4e",
   "metadata": {},
   "outputs": [],
   "source": [
    "import pandas as pd\n",
    "import tensorflow as tf\n",
    "from joblib import load"
   ]
  },
  {
   "cell_type": "code",
   "execution_count": 184,
   "id": "efd93758",
   "metadata": {},
   "outputs": [
    {
     "data": {
      "text/plain": [
       "[30.287235,\n",
       " -97.742271,\n",
       " 78660.0,\n",
       " 1.98,\n",
       " 2013.0,\n",
       " 1.0,\n",
       " 2.6666667,\n",
       " 3.0,\n",
       " 6185.0,\n",
       " 1768.0,\n",
       " 0.0,\n",
       " 0.0,\n",
       " 4.0,\n",
       " 2.0,\n",
       " 1.0,\n",
       " 2.0,\n",
       " 1.0,\n",
       " 1.0,\n",
       " 0.0,\n",
       " 0.0,\n",
       " 0.0,\n",
       " 0.0]"
      ]
     },
     "execution_count": 184,
     "metadata": {},
     "output_type": "execute_result"
    }
   ],
   "source": [
    "query=\"30.287235_-97.742271_78660_1.98_2013_1_2.6666667_3_6185_1768_0_0_4_2_1_2_1_1_0_0_0_0_\"\n",
    "query_list=query.split(\"_\")\n",
    "query_list.pop(-1)\n",
    "query_list\n",
    "for i,query in enumerate(query_list):\n",
    "    if query==\"\":\n",
    "        query_list[i]=0\n",
    "    query_list[i]=float(query_list[i])\n",
    "query_list"
   ]
  },
  {
   "cell_type": "code",
   "execution_count": 185,
   "id": "c8b308a7",
   "metadata": {},
   "outputs": [
    {
     "data": {
      "text/plain": [
       "22"
      ]
     },
     "execution_count": 185,
     "metadata": {},
     "output_type": "execute_result"
    }
   ],
   "source": [
    "len(query_list)"
   ]
  },
  {
   "cell_type": "code",
   "execution_count": 186,
   "id": "75065e91",
   "metadata": {},
   "outputs": [],
   "source": [
    "# query_list=[30.43063164, -97.66307831, 'Other', 1.98, 2012, 5, 2.666666667, 3,\n",
    "#        6011.0, 2601, 1, 3, 4, 3.0, 2, 2, True, True, False, False, 0, 0]\n",
    "# query_list"
   ]
  },
  {
   "cell_type": "code",
   "execution_count": 187,
   "id": "a5d9131d",
   "metadata": {},
   "outputs": [
    {
     "data": {
      "text/plain": [
       "22"
      ]
     },
     "execution_count": 187,
     "metadata": {},
     "output_type": "execute_result"
    }
   ],
   "source": [
    "len(query_list)"
   ]
  },
  {
   "cell_type": "code",
   "execution_count": 188,
   "id": "845bd0cd",
   "metadata": {},
   "outputs": [],
   "source": [
    "zips=['78702','78703','78704','78717','78721',\n",
    " '78723','78724','78727','78728','78729',\n",
    " '78730','78731','78732','78733','78735',\n",
    " '78737','78739','78741','78744','78745',\n",
    " '78747','78748','78749','78750','78753',\n",
    " '78754','78757','78758','78759','Other']"
   ]
  },
  {
   "cell_type": "code",
   "execution_count": 189,
   "id": "a95f70bc",
   "metadata": {},
   "outputs": [
    {
     "name": "stdout",
     "output_type": "stream",
     "text": [
      "[0, 0, 0, 0, 0, 0, 0, 0, 0, 0, 0, 0, 0, 0, 0, 0, 0, 0, 0, 0, 0, 0, 0, 0, 0, 0, 0, 0, 0, 1]\n"
     ]
    }
   ],
   "source": [
    "zipcode=query_list[2]\n",
    "if (zipcode in zips)==False:\n",
    "    zipcode=\"Other\"\n",
    "zipcode_index=zips.index(zipcode)\n",
    "zipcode_dummy=[0]*zipcode_index+[1]+[0]*(len(zips)-1-zipcode_index)\n",
    "print(zipcode_dummy)"
   ]
  },
  {
   "cell_type": "code",
   "execution_count": 190,
   "id": "bc5b39f4",
   "metadata": {},
   "outputs": [
    {
     "data": {
      "text/plain": [
       "[30.287235,\n",
       " -97.742271,\n",
       " 1.98,\n",
       " 2013.0,\n",
       " 1.0,\n",
       " 2.6666667,\n",
       " 3.0,\n",
       " 6185.0,\n",
       " 1768.0,\n",
       " 0.0,\n",
       " 0.0,\n",
       " 4.0,\n",
       " 2.0,\n",
       " 1.0,\n",
       " 2.0,\n",
       " 1.0,\n",
       " 1.0,\n",
       " 0.0,\n",
       " 0.0,\n",
       " 0.0,\n",
       " 0.0,\n",
       " 0,\n",
       " 0,\n",
       " 0,\n",
       " 0,\n",
       " 0,\n",
       " 0,\n",
       " 0,\n",
       " 0,\n",
       " 0,\n",
       " 0,\n",
       " 0,\n",
       " 0,\n",
       " 0,\n",
       " 0,\n",
       " 0,\n",
       " 0,\n",
       " 0,\n",
       " 0,\n",
       " 0,\n",
       " 0,\n",
       " 0,\n",
       " 0,\n",
       " 0,\n",
       " 0,\n",
       " 0,\n",
       " 0,\n",
       " 0,\n",
       " 0,\n",
       " 0,\n",
       " 1]"
      ]
     },
     "execution_count": 190,
     "metadata": {},
     "output_type": "execute_result"
    }
   ],
   "source": [
    "query_list.pop(2)\n",
    "query_list=query_list+zipcode_dummy\n",
    "query_list\n",
    "\n",
    "query_list"
   ]
  },
  {
   "cell_type": "code",
   "execution_count": 191,
   "id": "20cb5d39",
   "metadata": {},
   "outputs": [
    {
     "data": {
      "text/plain": [
       "51"
      ]
     },
     "execution_count": 191,
     "metadata": {},
     "output_type": "execute_result"
    }
   ],
   "source": [
    "len(query_list)"
   ]
  },
  {
   "cell_type": "code",
   "execution_count": 192,
   "id": "a8a32984",
   "metadata": {},
   "outputs": [
    {
     "data": {
      "text/plain": [
       "array([[-0.03834704,  0.43301625, -0.26801489,  1.13309392, -0.81752339,\n",
       "        -1.67067543, -0.00888214, -0.01048531, -0.42234815, -0.67645668,\n",
       "        -0.56984224,  0.66977697, -0.69970027, -0.88973225,  0.58037891,\n",
       "         0.12784597,  0.09468152, -0.54027422, -0.29087832, -0.08566867,\n",
       "        -0.04903777, -0.16118296, -0.14314829, -0.2189785 , -0.18794504,\n",
       "        -0.12712619, -0.1929549 , -0.12160084, -0.1654834 , -0.12346843,\n",
       "        -0.15041284, -0.12891857, -0.18307645, -0.20170333, -0.1158282 ,\n",
       "        -0.13988206, -0.20852408, -0.2059592 , -0.11932344, -0.18151548,\n",
       "        -0.27325482, -0.15737073, -0.2921341 , -0.23245717, -0.13955156,\n",
       "        -0.17434041, -0.1654834 , -0.18307645, -0.16519982, -0.19541842,\n",
       "         2.97727296]])"
      ]
     },
     "execution_count": 192,
     "metadata": {},
     "output_type": "execute_result"
    }
   ],
   "source": [
    "loaded_model = load('../Resources/nn/std_scaler.bin')\n",
    "query_list_scaled=loaded_model.transform([query_list])\n",
    "query_list_scaled"
   ]
  },
  {
   "cell_type": "code",
   "execution_count": 193,
   "id": "59f5e029",
   "metadata": {},
   "outputs": [],
   "source": [
    "new_model = tf.keras.models.load_model(\"../Resources/nn/neural_network.h5\")\n"
   ]
  },
  {
   "cell_type": "code",
   "execution_count": 194,
   "id": "2d895b7a",
   "metadata": {},
   "outputs": [
    {
     "name": "stdout",
     "output_type": "stream",
     "text": [
      "WARNING:tensorflow:5 out of the last 11 calls to <function Model.make_predict_function.<locals>.predict_function at 0x000002D2302C69D8> triggered tf.function retracing. Tracing is expensive and the excessive number of tracings could be due to (1) creating @tf.function repeatedly in a loop, (2) passing tensors with different shapes, (3) passing Python objects instead of tensors. For (1), please define your @tf.function outside of the loop. For (2), @tf.function has reduce_retracing=True option that can avoid unnecessary retracing. For (3), please refer to https://www.tensorflow.org/guide/function#controlling_retracing and https://www.tensorflow.org/api_docs/python/tf/function for  more details.\n",
      "1/1 [==============================] - 0s 158ms/step\n"
     ]
    },
    {
     "data": {
      "text/plain": [
       "array([[178988.44]], dtype=float32)"
      ]
     },
     "execution_count": 194,
     "metadata": {},
     "output_type": "execute_result"
    }
   ],
   "source": [
    "new_model.predict(query_list_scaled)"
   ]
  },
  {
   "cell_type": "code",
   "execution_count": 174,
   "id": "139ae406",
   "metadata": {},
   "outputs": [
    {
     "name": "stdout",
     "output_type": "stream",
     "text": [
      "1/1 [==============================] - 0s 57ms/step\n"
     ]
    },
    {
     "data": {
      "text/plain": [
       "array([[378867.2]], dtype=float32)"
      ]
     },
     "execution_count": 174,
     "metadata": {},
     "output_type": "execute_result"
    }
   ],
   "source": [
    "new_model.predict(query_list_scaled)"
   ]
  },
  {
   "cell_type": "code",
   "execution_count": 175,
   "id": "b5cd0aef",
   "metadata": {},
   "outputs": [
    {
     "name": "stdout",
     "output_type": "stream",
     "text": [
      "1/1 [==============================] - 0s 56ms/step\n"
     ]
    },
    {
     "data": {
      "text/plain": [
       "array([[378867.2]], dtype=float32)"
      ]
     },
     "execution_count": 175,
     "metadata": {},
     "output_type": "execute_result"
    }
   ],
   "source": [
    "new_model.predict(query_list_scaled)"
   ]
  },
  {
   "cell_type": "code",
   "execution_count": 176,
   "id": "3b2d4d59",
   "metadata": {},
   "outputs": [
    {
     "name": "stdout",
     "output_type": "stream",
     "text": [
      "1/1 [==============================] - 0s 60ms/step\n"
     ]
    },
    {
     "data": {
      "text/plain": [
       "array([[378867.2]], dtype=float32)"
      ]
     },
     "execution_count": 176,
     "metadata": {},
     "output_type": "execute_result"
    }
   ],
   "source": [
    "new_model.predict(query_list_scaled)"
   ]
  },
  {
   "cell_type": "code",
   "execution_count": 177,
   "id": "c749a657",
   "metadata": {},
   "outputs": [
    {
     "name": "stdout",
     "output_type": "stream",
     "text": [
      "1/1 [==============================] - 0s 57ms/step\n"
     ]
    },
    {
     "data": {
      "text/plain": [
       "array([[378867.2]], dtype=float32)"
      ]
     },
     "execution_count": 177,
     "metadata": {},
     "output_type": "execute_result"
    }
   ],
   "source": [
    "new_model.predict(query_list_scaled)"
   ]
  },
  {
   "cell_type": "code",
   "execution_count": 179,
   "id": "3bdd8145",
   "metadata": {},
   "outputs": [
    {
     "name": "stdout",
     "output_type": "stream",
     "text": [
      "1/1 [==============================] - 0s 62ms/step\n"
     ]
    }
   ],
   "source": [
    "price=new_model.predict(query_list_scaled)"
   ]
  },
  {
   "cell_type": "code",
   "execution_count": 180,
   "id": "8b3c1fb6",
   "metadata": {},
   "outputs": [
    {
     "data": {
      "text/plain": [
       "array([[378867.2]], dtype=float32)"
      ]
     },
     "execution_count": 180,
     "metadata": {},
     "output_type": "execute_result"
    }
   ],
   "source": [
    "price"
   ]
  },
  {
   "cell_type": "code",
   "execution_count": 182,
   "id": "2b83f9dd",
   "metadata": {},
   "outputs": [
    {
     "data": {
      "text/plain": [
       "378867.2"
      ]
     },
     "execution_count": 182,
     "metadata": {},
     "output_type": "execute_result"
    }
   ],
   "source": [
    "price[0][0]"
   ]
  },
  {
   "cell_type": "code",
   "execution_count": null,
   "id": "c645e738",
   "metadata": {},
   "outputs": [],
   "source": []
  }
 ],
 "metadata": {
  "kernelspec": {
   "display_name": "PythonDataJr",
   "language": "python",
   "name": "pythondatajr"
  },
  "language_info": {
   "codemirror_mode": {
    "name": "ipython",
    "version": 3
   },
   "file_extension": ".py",
   "mimetype": "text/x-python",
   "name": "python",
   "nbconvert_exporter": "python",
   "pygments_lexer": "ipython3",
   "version": "3.7.7"
  }
 },
 "nbformat": 4,
 "nbformat_minor": 5
}
